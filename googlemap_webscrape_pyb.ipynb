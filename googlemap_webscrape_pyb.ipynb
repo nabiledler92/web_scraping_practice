{
  "nbformat": 4,
  "nbformat_minor": 0,
  "metadata": {
    "colab": {
      "provenance": [],
      "authorship_tag": "ABX9TyO1WQ3moh1mxsu4y2kRT1+f",
      "include_colab_link": true
    },
    "kernelspec": {
      "name": "python3",
      "display_name": "Python 3"
    },
    "language_info": {
      "name": "python"
    }
  },
  "cells": [
    {
      "cell_type": "markdown",
      "metadata": {
        "id": "view-in-github",
        "colab_type": "text"
      },
      "source": [
        "<a href=\"https://colab.research.google.com/github/nabiledler92/web_scraping_practice/blob/main/googlemap_webscrape_pyb.ipynb\" target=\"_parent\"><img src=\"https://colab.research.google.com/assets/colab-badge.svg\" alt=\"Open In Colab\"/></a>"
      ]
    },
    {
      "cell_type": "code",
      "execution_count": 1,
      "metadata": {
        "id": "FMPH5iG6WG35"
      },
      "outputs": [],
      "source": [
        "import requests\n",
        "import numpy as np\n",
        "import pandas as pd\n",
        "from bs4 import BeautifulSoup\n",
        "import matplotlib.pyplot as plt\n",
        "\n",
        "%matplotlib inline"
      ]
    },
    {
      "cell_type": "code",
      "source": [
        "constructed_url = \"https://www.google.com/maps/d/viewer?mid=1CJ84G4mYnPgQ-pBVJl0EqQl2fWog82s&ll=31.36266114815138%2C34.4116679689283&z=12\"\n",
        "response = requests.get(constructed_url)\n",
        "html_content = response.text\n",
        "\n",
        "constructed_soup = BeautifulSoup(response.text, 'html.parser')"
      ],
      "metadata": {
        "id": "1K8s1fMkWVwD"
      },
      "execution_count": 9,
      "outputs": []
    },
    {
      "cell_type": "code",
      "source": [
        "num_table = len(constructed_soup.find_all('table'))\n",
        "print(num_table)"
      ],
      "metadata": {
        "colab": {
          "base_uri": "https://localhost:8080/"
        },
        "id": "etMS9ooNYRKf",
        "outputId": "ce4ecb77-03d7-4c68-d02b-7ba391bae4f0"
      },
      "execution_count": 11,
      "outputs": [
        {
          "output_type": "stream",
          "name": "stdout",
          "text": [
            "0\n"
          ]
        }
      ]
    },
    {
      "cell_type": "code",
      "source": [
        "gazamap_url = \"https://www.google.com/maps/d/viewer?mid=1CJ84G4mYnPgQ-pBVJl0EqQl2fWog82s&ll=31.358925703753556%2C34.32699415000002&z=11\"\n",
        "gazamap_response = requests.get(gazamap_url)\n",
        "gazamap_soup = BeautifulSoup(gazamap_response.text, 'html.parser')\n",
        "\n",
        "idf_manuever = gazamap_soup.find_all('div', {'class':'HzV7m-pbTTYe-bN97Pc'})"
      ],
      "metadata": {
        "id": "hKn7pyHDnueI"
      },
      "execution_count": 60,
      "outputs": []
    },
    {
      "cell_type": "code",
      "source": [
        "num_tables = len(gazamap_soup.find_all('div', {'class':'HzV7m-pbTTYe-bN97Pc'}))\n",
        "print(num_tables)"
      ],
      "metadata": {
        "colab": {
          "base_uri": "https://localhost:8080/"
        },
        "id": "t_rKfdW6qsIb",
        "outputId": "eb8dc1ab-c882-420c-b072-fca1c5fc605d"
      },
      "execution_count": 61,
      "outputs": [
        {
          "output_type": "stream",
          "name": "stdout",
          "text": [
            "0\n"
          ]
        }
      ]
    },
    {
      "cell_type": "code",
      "source": [
        "table = gazamap_soup.find_all('div')[5]\n",
        "print(table)"
      ],
      "metadata": {
        "colab": {
          "base_uri": "https://localhost:8080/"
        },
        "id": "TwEGNcQpq7yR",
        "outputId": "6e86f428-73b0-42ac-ba5c-c1fc8277adb9"
      },
      "execution_count": 39,
      "outputs": [
        {
          "output_type": "stream",
          "name": "stdout",
          "text": [
            "<div class=\"jQhVs-haAclf\"><div class=\"jQhVs-uMX1Ee-My5Dr-purZT-uDEFge\"><div class=\"jQhVs-uMX1Ee-My5Dr-purZT-uDEFge-bN97Pc\"><div class=\"jQhVs-uMX1Ee-My5Dr-purZT-uDEFge-Bz112c\"></div><div class=\"jQhVs-uMX1Ee-My5Dr-purZT-uDEFge-fmcmS-haAclf\"><div class=\"jQhVs-uMX1Ee-My5Dr-purZT-uDEFge-fmcmS\">Open full screen to view more</div></div></div></div></div>\n"
          ]
        }
      ]
    },
    {
      "cell_type": "code",
      "source": [
        "# prompt: this link https://www.google.com/maps/d/viewer?mid=1CJ84G4mYnPgQ-pBVJl0EqQl2fWog82s&ll=31.358925703753556%2C34.32699415000002&z=11 scrape div that has Hamas Forces and produce a table\n",
        "\n",
        "import requests\n",
        "from bs4 import BeautifulSoup\n",
        "\n",
        "constructed_url = \"https://www.google.com/maps/d/viewer?mid=1CJ84G4mYnPgQ-pBVJl0EqQl2fWog82s&ll=31.358925703753556%2C34.32699415000002&z=11\"\n",
        "response = requests.get(constructed_url)\n",
        "html_content = response.text\n",
        "\n",
        "constructed_soup = BeautifulSoup(response.text, 'html.parser')\n",
        "num_table = len(constructed_soup.find_all('table'))\n",
        "print(num_table)\n",
        "\n",
        "idf_manuever = constructed_soup.find_all('div', {'class':'HzV7m-pbTTYe-r4nke'})\n",
        "num_tables = len(constructed_soup.find_all('div', {'class':'HzV7m-pbTTYe-r4nke'}))\n",
        "print(num_tables)\n",
        "\n",
        "if len(idf_manuever) == 0:\n",
        "    print(\"The list is empty. Cannot access the second element.\")\n",
        "\n",
        "hamas_forces_div = constructed_soup.find_all('div', {'class':'HzV7m-pbTTYe-r4nke'})[1]\n",
        "\n",
        "hamas_forces_table = hamas_forces_div.find_all('table')[0]\n",
        "\n",
        "print(hamas_forces_table)\n"
      ],
      "metadata": {
        "colab": {
          "base_uri": "https://localhost:8080/",
          "height": 263
        },
        "id": "B3CNpIe3v_fk",
        "outputId": "19132eb3-ffa6-4076-cb4e-6965ea41b506"
      },
      "execution_count": 64,
      "outputs": [
        {
          "output_type": "stream",
          "name": "stdout",
          "text": [
            "0\n",
            "0\n",
            "The list is empty. Cannot access the second element.\n"
          ]
        },
        {
          "output_type": "error",
          "ename": "IndexError",
          "evalue": "list index out of range",
          "traceback": [
            "\u001b[0;31m---------------------------------------------------------------------------\u001b[0m",
            "\u001b[0;31mIndexError\u001b[0m                                Traceback (most recent call last)",
            "\u001b[0;32m<ipython-input-64-f8ba371d03c3>\u001b[0m in \u001b[0;36m<cell line: 21>\u001b[0;34m()\u001b[0m\n\u001b[1;32m     19\u001b[0m     \u001b[0mprint\u001b[0m\u001b[0;34m(\u001b[0m\u001b[0;34m\"The list is empty. Cannot access the second element.\"\u001b[0m\u001b[0;34m)\u001b[0m\u001b[0;34m\u001b[0m\u001b[0;34m\u001b[0m\u001b[0m\n\u001b[1;32m     20\u001b[0m \u001b[0;34m\u001b[0m\u001b[0m\n\u001b[0;32m---> 21\u001b[0;31m \u001b[0mhamas_forces_div\u001b[0m \u001b[0;34m=\u001b[0m \u001b[0mconstructed_soup\u001b[0m\u001b[0;34m.\u001b[0m\u001b[0mfind_all\u001b[0m\u001b[0;34m(\u001b[0m\u001b[0;34m'div'\u001b[0m\u001b[0;34m,\u001b[0m \u001b[0;34m{\u001b[0m\u001b[0;34m'class'\u001b[0m\u001b[0;34m:\u001b[0m\u001b[0;34m'HzV7m-pbTTYe-r4nke'\u001b[0m\u001b[0;34m}\u001b[0m\u001b[0;34m)\u001b[0m\u001b[0;34m[\u001b[0m\u001b[0;36m1\u001b[0m\u001b[0;34m]\u001b[0m\u001b[0;34m\u001b[0m\u001b[0;34m\u001b[0m\u001b[0m\n\u001b[0m\u001b[1;32m     22\u001b[0m \u001b[0;34m\u001b[0m\u001b[0m\n\u001b[1;32m     23\u001b[0m \u001b[0mhamas_forces_table\u001b[0m \u001b[0;34m=\u001b[0m \u001b[0mhamas_forces_div\u001b[0m\u001b[0;34m.\u001b[0m\u001b[0mfind_all\u001b[0m\u001b[0;34m(\u001b[0m\u001b[0;34m'table'\u001b[0m\u001b[0;34m)\u001b[0m\u001b[0;34m[\u001b[0m\u001b[0;36m0\u001b[0m\u001b[0;34m]\u001b[0m\u001b[0;34m\u001b[0m\u001b[0;34m\u001b[0m\u001b[0m\n",
            "\u001b[0;31mIndexError\u001b[0m: list index out of range"
          ]
        }
      ]
    }
  ]
}