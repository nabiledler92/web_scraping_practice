{
  "cells": [
    {
      "cell_type": "code",
      "execution_count": null,
      "metadata": {
        "id": "rtJt62pKH0PZ"
      },
      "outputs": [],
      "source": [
        "# Before we begin, run this cell if you are using Colab\n",
        "!git clone -b 3-ysi-tutorial https://github.com/nestauk/im-tutorials.git"
      ]
    },
    {
      "cell_type": "markdown",
      "metadata": {
        "id": "6wE7ouyzH0Pa"
      },
      "source": [
        "# YSI Tutorial - Web Scraping\n",
        "\n",
        "## Structure\n",
        "1. HTML pages\n",
        "2. Chrome DevTools\n",
        "3. Web scraping packages\n",
        "    * BeautifulSoup\n",
        "        * Exercise\n",
        "    * Selenium\n",
        "        * Exercise\n",
        "4. Ethical considerations of web scraping\n",
        "\n",
        "## What you will be able to do after the tutorial\n",
        "* Inspect an HTML page and identify which parts you want to scrape.\n",
        "* Scrape web pages with `requests` and `BeautifulSoup`.\n",
        "* Navigate Javascript elements with `Selenium`\n",
        "* Judge when web scraping is the most suitable approach and what you should consider before doing so (be a good citizen of the Internet).\n",
        "\n",
        "## HTML page structure\n",
        "\n",
        "**Hypertext Markup Language (HTML)** is the standard markup language for documents designed to be displayed in a web browser. HTML describes the structure of a web page and it can be used with **Cascading Style Sheets (CSS)** and a scripting language such as **JavaScript** to create interactive websites. HTML consists of a series of elements that \"tell\" to the browser how to display the content. Lastly, elements are represented by **tags**.\n",
        "\n",
        "Here are some tags:\n",
        "* `<!DOCTYPE html>` declaration defines this document to be HTML5.  \n",
        "* `<html>` element is the root element of an HTML page.  \n",
        "* `<div>` tag defines a division or a section in an HTML document. It's usually a container for other elements.\n",
        "* `<head>` element contains meta information about the document.  \n",
        "* `<title>` element specifies a title for the document.  \n",
        "* `<body>` element contains the visible page content.  \n",
        "* `<h1>` element defines a large heading.  \n",
        "* `<p>` element defines a paragraph.  \n",
        "* `<a>` element defines a hyperlink.\n",
        "\n",
        "HTML tags normally come in pairs like `<p>` and `</p>`. The first tag in a pair is the opening tag, the second tag is the closing tag. The end tag is written like the start tag, but with a slash inserted before the tag name.\n",
        "\n",
        "<img src=\"https://github.com/nestauk/im-tutorials/blob/3-ysi-tutorial/figures/Web-Scraping/tags.png?raw=1\" width=\"512\">\n",
        "\n",
        "HTML has a tree-like 🌳 🌲 structure thanks to the **Document Object Model (DOM)**, a cross-platform and language-independent interface. Here's how a very simple HTML tree looks like.\n",
        "\n",
        "<img src=\"https://github.com/nestauk/im-tutorials/blob/3-ysi-tutorial/figures/Web-Scraping/dom_tree.gif?raw=1\">\n",
        "\n",
        "### Creating a simple HTML page"
      ]
    },
    {
      "cell_type": "code",
      "execution_count": null,
      "metadata": {
        "id": "Smzu-DRMH0Pc"
      },
      "outputs": [],
      "source": [
        "from IPython.core.display import display, HTML"
      ]
    },
    {
      "cell_type": "code",
      "execution_count": null,
      "metadata": {
        "id": "AcVV8uHCH0Pc"
      },
      "outputs": [],
      "source": [
        "display(HTML(\"\"\"\n",
        "<!DOCTYPE html>\n",
        "<html lang=\"en\" dir=\"ltr\">\n",
        "<head>\n",
        "  <title>Intro to HTML</title>\n",
        "</head>\n",
        "\n",
        "<body>\n",
        "  <h1>Heading h1</h1>\n",
        "  <h2>Heading h2</h2>\n",
        "  <h3>Heading h3</h3>\n",
        "  <h4>Heading h4</h4>\n",
        "\n",
        "  <p>\n",
        "    That's a text paragraph. You can also <b>bold</b>, <mark>mark</mark>, <ins>underline</ins>, <del>strikethrough</del> and <i>emphasize</i> words.\n",
        "    You can also add links - here's one to <a href=\"https://en.wikipedia.org/wiki/Main_Page\">Wikipedia</a>.\n",
        "  </p>\n",
        "\n",
        "  <p>\n",
        "    This <br> is a paragraph <br> with <br> line breaks\n",
        "  </p>\n",
        "\n",
        "  <p style=\"color:red\">\n",
        "    Add colour to your paragraphs.\n",
        "  </p>\n",
        "\n",
        "  <p>Unordered list:</p>\n",
        "  <ul>\n",
        "    <li>Python</li>\n",
        "    <li>R</li>\n",
        "    <li>Julia</li>\n",
        "  </ul>\n",
        "\n",
        "  <p>Ordered list:</p>\n",
        "  <ol>\n",
        "    <li>Data collection</li>\n",
        "    <li>Exploratory data analysis</li>\n",
        "    <li>Data analysis</li>\n",
        "    <li>Policy recommendations</li>\n",
        "  </ol>\n",
        "  <hr>\n",
        "\n",
        "  <!-- This is a comment -->\n",
        "\n",
        "</body>\n",
        "</html>\n",
        "\"\"\"))"
      ]
    },
    {
      "cell_type": "markdown",
      "metadata": {
        "id": "lyCp-buoH0Pd"
      },
      "source": [
        "## Chrome DevTools\n",
        "\n",
        "[Chrome DevTools](https://developers.google.com/web/tools/chrome-devtools/) is a set of web developer tools built directly into the Google Chrome browser. DevTools can help you view and edit web pages. We will use Chrome's tool to inspect an HTML page and find which elements correspond to the data we might want to scrape.\n",
        "\n",
        "### Short exercise\n",
        "To get some experience with the HTML page structure and Chrome DevTools, we will search and locate elements in [IMDB](https://www.imdb.com/).\n",
        "\n",
        "**Tip**: Hit *Command+Option+C* (Mac) or *Control+Shift+C* (Windows, Linux) to access the elements panel.\n",
        "\n",
        "#### Tasks (we will do them together)\n",
        "* Find the _Sign in_ button\n",
        "* Find the IMDB logo.\n",
        "* Find the box containing the _Now Playing_ table.\n",
        "* Locate one of the photos/videos in the main section of the page.\n",
        "* What is the _heading_ size of the titles in the main section of the page?"
      ]
    },
    {
      "cell_type": "markdown",
      "metadata": {
        "id": "kaVLqcI7H0Pd"
      },
      "source": [
        "## Web Scraping with `requests` and `BeautifulSoup`\n",
        "\n",
        "We will use `requests` and `BeautifulSoup` to access and scrape the content of [IMDB's homepage](https://www.imdb.com).\n",
        "\n",
        "### What is `BeautifulSoup`?\n",
        "\n",
        "It is a Python library for pulling data out of HTML and XML files. It provides methods to navigate the document's tree structure that we discussed before and scrape its content.\n",
        "\n",
        "### Our pipeline\n",
        "<img src='https://github.com/nestauk/im-tutorials/blob/3-ysi-tutorial/figures/Web-Scraping/scrape-pipeline.png?raw=1' width=\"1024\">"
      ]
    },
    {
      "cell_type": "code",
      "execution_count": 2,
      "metadata": {
        "id": "WG4JMwgxH0Pd"
      },
      "outputs": [],
      "source": [
        "# Imports\n",
        "import requests\n",
        "import numpy as np\n",
        "import pandas as pd\n",
        "from bs4 import BeautifulSoup\n",
        "import matplotlib.pyplot as plt\n",
        "\n",
        "%matplotlib inline"
      ]
    },
    {
      "cell_type": "code",
      "execution_count": null,
      "metadata": {
        "id": "zNX8OfZzH0Pd"
      },
      "outputs": [],
      "source": [
        "# IMDB's homepage\n",
        "imdb_url = 'https://www.imdb.com'\n",
        "\n",
        "# Use requests to retrieve data from a given URL\n",
        "imdb_response = requests.get(imdb_url)\n",
        "\n",
        "# Parse the whole HTML page using BeautifulSoup\n",
        "imdb_soup = BeautifulSoup(imdb_response.text, 'html.parser')\n",
        "\n",
        "# Title of the parsed page\n",
        "imdb_soup.title"
      ]
    },
    {
      "cell_type": "code",
      "execution_count": null,
      "metadata": {
        "id": "cWR-HydlH0Pe"
      },
      "outputs": [],
      "source": [
        "# We can also get it without the HTML tags\n",
        "imdb_soup.title.string"
      ]
    },
    {
      "cell_type": "markdown",
      "metadata": {
        "id": "tCmVwZ89H0Pe"
      },
      "source": [
        "### Collect trailers' title and description"
      ]
    },
    {
      "cell_type": "code",
      "execution_count": null,
      "metadata": {
        "id": "Rk0Nv5iUH0Pe"
      },
      "outputs": [],
      "source": [
        "trailers = imdb_soup.find('div', {'class': 'ab_hero'})"
      ]
    },
    {
      "cell_type": "code",
      "execution_count": null,
      "metadata": {
        "id": "Mh0oUIKRH0Pe"
      },
      "outputs": [],
      "source": [
        "# print(trailers.prettify())"
      ]
    },
    {
      "cell_type": "markdown",
      "metadata": {
        "id": "dab_pZ7jH0Pe"
      },
      "source": [
        "We will use the `.find_all()` method to search the HTML tree for particular tags and get a `list` with all the relevant objects."
      ]
    },
    {
      "cell_type": "code",
      "execution_count": null,
      "metadata": {
        "id": "BWkVZKMqH0Pf"
      },
      "outputs": [],
      "source": [
        "for title, image in zip(trailers.find_all('div', {'class': 'onoverflow'}), trailers.find_all('img', {'class': 'pri_image'})):\n",
        "    print(f\"{title.text}: {image['title']}\")\n",
        "    print()"
      ]
    },
    {
      "cell_type": "markdown",
      "metadata": {
        "id": "ivoLjpZ6H0Pf"
      },
      "source": [
        "### Collect side bar"
      ]
    },
    {
      "cell_type": "code",
      "execution_count": null,
      "metadata": {
        "id": "nPlGZ5AfH0Pf"
      },
      "outputs": [],
      "source": [
        "for widget in imdb_soup.find_all('div', {'class': 'aux-content-widget-2'}):\n",
        "    # Check that the widget has a heading\n",
        "    if widget.h3:\n",
        "        # Print the widget's heading along with the movie titles.\n",
        "        print(widget.h3.string)\n",
        "        for title in widget.find_all('div', {'class': 'title'}):\n",
        "            print(title.text)\n",
        "        print()"
      ]
    },
    {
      "cell_type": "markdown",
      "metadata": {
        "id": "o-8qxHWFH0Pf"
      },
      "source": [
        "### Collect articles"
      ]
    },
    {
      "cell_type": "code",
      "execution_count": null,
      "metadata": {
        "id": "fjURQH0OH0Pf"
      },
      "outputs": [],
      "source": [
        "for article in imdb_soup.find_all('div', {'class': 'article'}):\n",
        "    if article.h3:\n",
        "        # Title of the article\n",
        "        print(article.h3.string)\n",
        "        # Text\n",
        "        print(article.p.text)\n",
        "        print()"
      ]
    },
    {
      "cell_type": "markdown",
      "metadata": {
        "id": "7FqdGh8LH0Pf"
      },
      "source": [
        "### Find links\n",
        "\n",
        "In many cases, it is useful to collect the links contained in a webpage (for example, you might want to scrape them too). Here is how you can do this."
      ]
    },
    {
      "cell_type": "code",
      "execution_count": null,
      "metadata": {
        "id": "datEAg2RH0Pf"
      },
      "outputs": [],
      "source": [
        "# Find all links\n",
        "links = [link.get('href') for link in imdb_soup.find_all('a')]\n",
        "\n",
        "# Add homepage and keep the unique links\n",
        "fixed_links = set([''.join([imdb_url, link]) for link in links if link])"
      ]
    },
    {
      "cell_type": "code",
      "execution_count": null,
      "metadata": {
        "id": "10rwdckaH0Pf"
      },
      "outputs": [],
      "source": [
        "# fixed_links"
      ]
    },
    {
      "cell_type": "markdown",
      "metadata": {
        "id": "Fsxj0shnH0Pf"
      },
      "source": [
        "## From web data to analysis\n",
        "\n",
        "**[Box Office Mojo](https://www.boxofficemojo.com/)** is a website that tracks box office revenue in a systematic, algorithmic way. The site was founded in 1999 and was bought in 2008 by IMDb.  \n",
        "\n",
        "In this example, we will scrape data for UK's Weekend box office and create some simple plots. This will be our pipeline:\n",
        "\n",
        "<img src='https://github.com/nestauk/im-tutorials/blob/3-ysi-tutorial/figures/Web-Scraping/boxofficemojo-pipeline.png?raw=1' width='1024'>"
      ]
    },
    {
      "cell_type": "code",
      "execution_count": null,
      "metadata": {
        "id": "iS1Qtpk6H0Pf"
      },
      "outputs": [],
      "source": [
        "# Box Office Mojo - UK Weekend box office\n",
        "boxofficemojo_url = 'https://www.boxofficemojo.com/intl/uk/?yr=2019&wk=33&currency=local'\n",
        "\n",
        "# Use requests to retrieve data from a given URL\n",
        "bom_response = requests.get(boxofficemojo_url)\n",
        "\n",
        "# Parse the whole HTML page using BeautifulSoup\n",
        "bom_soup = BeautifulSoup(bom_response.text, 'html.parser')"
      ]
    },
    {
      "cell_type": "markdown",
      "metadata": {
        "id": "c0zpR0WzH0Pf"
      },
      "source": [
        "Let's inspect the webpage.\n",
        "\n",
        "Our goal is to scrape the main table. An [HTML Table](https://www.w3schools.com/html/html_tables.asp) is defined with the `<table>` tag. Each table row is defined with the `<tr>` tag. A table header is defined with the `<th>` tag. By default, table headings are bold and centered. A table data/cell is defined with the `<td>` tag and they can contain all sorts of HTML elements; text, images, lists, other tables, etc."
      ]
    },
    {
      "cell_type": "code",
      "execution_count": null,
      "metadata": {
        "id": "LzdpUFaEH0Pf"
      },
      "outputs": [],
      "source": [
        "# There are 7 tables in the Box Office Mojo page but we are interested in the one with the most data (table 5).\n",
        "print(f\"NUMBER OF TABLES IN THE PAGE: {len(bom_soup.find_all('table'))}\")"
      ]
    },
    {
      "cell_type": "code",
      "execution_count": null,
      "metadata": {
        "id": "c1GTv5fmH0Pf"
      },
      "outputs": [],
      "source": [
        "# Python starts counting from 0\n",
        "table = bom_soup.find_all('table')[4]"
      ]
    },
    {
      "cell_type": "code",
      "execution_count": null,
      "metadata": {
        "id": "5McU4QGhH0Pf"
      },
      "outputs": [],
      "source": [
        "# table"
      ]
    },
    {
      "cell_type": "markdown",
      "metadata": {
        "id": "N6Ui-VtRH0Pg"
      },
      "source": [
        "There are various ways to access the content of a **table row**. We could:\n",
        "\n",
        "* Use the `.contents` method to get a `list` with the data of every table cell. Note that the list will contain multiple _newline characters_.\n",
        "* Use the `.text` method to get a `string` with the data of every table cell. Note that the data will be separated by a _newline character_ which is omitted when using `print()`. You can use the `.split(\\n)` method to split the `string` on `\\n`\n",
        "* Use `.find_all('td')` to get a list of all the data in a row."
      ]
    },
    {
      "cell_type": "code",
      "execution_count": null,
      "metadata": {
        "id": "FqYciwb7H0Pg"
      },
      "outputs": [],
      "source": [
        "# Using the .contents method\n",
        "table.find_all('tr')[2].contents"
      ]
    },
    {
      "cell_type": "code",
      "execution_count": null,
      "metadata": {
        "id": "-FlAI20tH0Pg"
      },
      "outputs": [],
      "source": [
        "# Using .text method\n",
        "table.find_all('tr')[2].text"
      ]
    },
    {
      "cell_type": "code",
      "execution_count": null,
      "metadata": {
        "id": "WiPE-4yRH0Pg"
      },
      "outputs": [],
      "source": [
        "# Print text \"consumes\" the newline characters\n",
        "print(table.find_all('tr')[2].text)"
      ]
    },
    {
      "cell_type": "code",
      "execution_count": null,
      "metadata": {
        "id": "NmUrMTE7H0Pg"
      },
      "outputs": [],
      "source": [
        "# Split string on newline characters\n",
        "table.find_all('tr')[2].text.split('\\n')"
      ]
    },
    {
      "cell_type": "code",
      "execution_count": null,
      "metadata": {
        "id": "TajmrjLXH0Pg"
      },
      "outputs": [],
      "source": [
        "# Loop through the cells of a row and print their data\n",
        "for data in table.find_all('tr')[2].find_all('td'):\n",
        "    print(data.text)"
      ]
    },
    {
      "cell_type": "code",
      "execution_count": null,
      "metadata": {
        "id": "-pfvmJZYH0Pg"
      },
      "outputs": [],
      "source": [
        "# Table's column names\n",
        "for data in table.find_all('tr')[1].find_all('td'):\n",
        "    print(data.text)"
      ]
    },
    {
      "cell_type": "markdown",
      "metadata": {
        "id": "s-paMZagH0Pg"
      },
      "source": [
        "We will use the `.find_all('td')` method to get the data from every table row.\n",
        "\n",
        "**Note**: We will not collect the first and last rows in this particular example. The first row contains all of the table data while the last row contains the buttons to other pages."
      ]
    },
    {
      "cell_type": "code",
      "execution_count": null,
      "metadata": {
        "id": "OcNQwlGBH0Pg"
      },
      "outputs": [],
      "source": [
        "# Loop over the table rows, collect the data and store them in a list.\n",
        "lst = []\n",
        "for row in table.find_all('tr')[1:-1]:\n",
        "    s = pd.Series([data.text for data in row.find_all('td')])\n",
        "    lst.append(s)"
      ]
    },
    {
      "cell_type": "code",
      "execution_count": null,
      "metadata": {
        "id": "StCYEb2OH0Pg"
      },
      "outputs": [],
      "source": [
        "# Concatenate the Pandas Series in a DataFrame\n",
        "data = pd.concat(lst, axis=1).T"
      ]
    },
    {
      "cell_type": "code",
      "execution_count": null,
      "metadata": {
        "id": "2N3V-T7QH0Pg"
      },
      "outputs": [],
      "source": [
        "# The first line contains the header - let's fix that!\n",
        "data.head(2)"
      ]
    },
    {
      "cell_type": "code",
      "execution_count": null,
      "metadata": {
        "id": "VfeigJRdH0Pg"
      },
      "outputs": [],
      "source": [
        "# grab the first row for the header\n",
        "header = []\n",
        "for col in data.iloc[0, :-1]:\n",
        "    if '/' not in col:\n",
        "        header.append(col)\n",
        "    else:\n",
        "        header.extend(col.split('/'))\n",
        "\n",
        "data = data[1:] # take the data less the header row\n",
        "data.columns = header # set the header row as the df header"
      ]
    },
    {
      "cell_type": "code",
      "execution_count": null,
      "metadata": {
        "id": "JChuzMJ-H0Pk"
      },
      "outputs": [],
      "source": [
        "# Replace the n/a string with a Null value.\n",
        "data.replace('n/a', np.nan, inplace=True)\n",
        "data.replace('-', np.nan, inplace=True)\n",
        "\n",
        "# Remove the £ symbol from the \"Gross\" column and transform strings to integers\n",
        "data['Weekend Gross'] = data['Weekend Gross'].apply(lambda x: int(x[1:].replace(',', '')))\n",
        "data['Gross-to-Date'] = data['Gross-to-Date'].apply(lambda x: int(x[1:].replace(',', '')))\n",
        "\n",
        "# Transform strings to integers\n",
        "data['Theaters'] = data['Theaters'].apply(lambda x: int(x) if isinstance(x, str) else x)\n",
        "data['Week'] = data['Week'].apply(lambda x: int(x) if isinstance(x, str) else x)\n",
        "\n",
        "# Create a new variable showing how much a movie grossed on average on weekly basis\n",
        "data['Week AVG'] = data['Gross-to-Date'].div(data['Week'])\n",
        "\n",
        "# Set the movie title as index\n",
        "data.set_index('Movie', inplace=True)"
      ]
    },
    {
      "cell_type": "code",
      "execution_count": null,
      "metadata": {
        "id": "gl_q0qoCH0Pl"
      },
      "outputs": [],
      "source": [
        "data.head(2)"
      ]
    },
    {
      "cell_type": "code",
      "execution_count": null,
      "metadata": {
        "id": "OqyTbGTzH0Pl"
      },
      "outputs": [],
      "source": [
        "print(f'(MOVIES, COLUMNS) -> {data.shape}')"
      ]
    },
    {
      "cell_type": "code",
      "execution_count": null,
      "metadata": {
        "id": "_Bz0xCq0H0Pl"
      },
      "outputs": [],
      "source": [
        "print(f'% OF MISSING VALUES PER COLUMN\\n{(data.isnull().sum() / data.shape[0]) * 100}')"
      ]
    },
    {
      "cell_type": "code",
      "execution_count": null,
      "metadata": {
        "id": "O7PP78ilH0Pl"
      },
      "outputs": [],
      "source": [
        "# Use the .value_counts() method to count the number of studios\n",
        "data.Studio.value_counts().plot(kind='bar', title='Studios with the most movies in the top 55')\n",
        "plt.show()"
      ]
    },
    {
      "cell_type": "code",
      "execution_count": null,
      "metadata": {
        "id": "B0iqv3UpH0Pl"
      },
      "outputs": [],
      "source": [
        "# Use the .sort_values() method to sort the values of a column\n",
        "f, (ax1, ax2) = plt.subplots(ncols=2, figsize=(12,8))\n",
        "\n",
        "# ax1\n",
        "data['Week AVG'].sort_values(ascending=False)[:25].plot(kind='bar', title='Weekly Gross earnings', ax=ax1)\n",
        "# ax2\n",
        "data['Theaters'].sort_values(ascending=False)[:25].plot(kind='bar', title='Number of theaters showing a movie', ax=ax2)\n",
        "\n",
        "f.tight_layout()\n",
        "plt.show()"
      ]
    },
    {
      "cell_type": "markdown",
      "metadata": {
        "id": "vnVYZ8xrH0Pl"
      },
      "source": [
        "## Exercise\n",
        "\n",
        "Scrape the main table of [UK's Yearly Box Office](https://www.boxofficemojo.com/intl/uk/yearly/) and try to answer the following:\n",
        "1. Which producers have the most films in the top 100?\n",
        "2. Can you find the gross earnings by distributor?\n",
        "\n",
        "[Link to the solutions. Don't cheat!](https://colab.research.google.com/github/nestauk/im-tutorials/blob/3-ysi-tutorial/notebooks/Web-Scraping/solutions.ipynb)"
      ]
    },
    {
      "cell_type": "code",
      "execution_count": 4,
      "metadata": {
        "id": "eov-kG3vH0Pl"
      },
      "outputs": [],
      "source": [
        "#Import\n",
        "\n",
        "import requests\n",
        "import numpy as np\n",
        "import pandas as pd\n",
        "from bs4 import BeautifulSoup\n",
        "import matplotlib.pyplot as plt\n",
        "\n",
        "%matplotlib inline\n",
        "\n",
        "# That's the URL you should use\n",
        "url = 'https://www.boxofficemojo.com/intl/uk/yearly/'"
      ]
    },
    {
      "cell_type": "code",
      "execution_count": 6,
      "metadata": {
        "id": "M4jEM24uH0Pl"
      },
      "outputs": [],
      "source": [
        "# Access the webpage content\n",
        "# write your code here (~1 line)\n",
        "boxoffice_response = requests.get(url)"
      ]
    },
    {
      "cell_type": "code",
      "execution_count": 8,
      "metadata": {
        "id": "2JSnhqhnH0Pl",
        "outputId": "a09b7696-3048-4c7c-c60e-3cae4ceb4c40",
        "colab": {
          "base_uri": "https://localhost:8080/",
          "height": 35
        }
      },
      "outputs": [
        {
          "output_type": "execute_result",
          "data": {
            "text/plain": [
              "'British Yearly Box Office - Box Office Mojo'"
            ],
            "application/vnd.google.colaboratory.intrinsic+json": {
              "type": "string"
            }
          },
          "metadata": {},
          "execution_count": 8
        }
      ],
      "source": [
        "# Parse the HTML page\n",
        "# write your code here (~1 line)\n",
        "boxoffice_soup = BeautifulSoup(boxoffice_response.text, 'html.parser')\n",
        "\n",
        "boxoffice_soup.title.string"
      ]
    },
    {
      "cell_type": "code",
      "execution_count": 12,
      "metadata": {
        "id": "U5BaulWoH0Pl",
        "outputId": "c57074f5-8458-4113-b775-8ae31fb555eb",
        "colab": {
          "base_uri": "https://localhost:8080/"
        }
      },
      "outputs": [
        {
          "output_type": "stream",
          "name": "stdout",
          "text": [
            "NUMBER OF TABLES IN THE PAGE: 1\n"
          ]
        }
      ],
      "source": [
        "# Choose the relevant table\n",
        "# write your code here (~1 line)\n",
        "print(f\"NUMBER OF TABLES IN THE PAGE: {len(boxoffice_soup.find_all('table'))}\")"
      ]
    },
    {
      "cell_type": "code",
      "source": [
        "num_tables = len(boxoffice_soup.find_all('table'))\n",
        "print(num_tables)"
      ],
      "metadata": {
        "id": "TVBjR9AFOVg5",
        "outputId": "af01c426-04f6-4bec-9336-e79501891f1f",
        "colab": {
          "base_uri": "https://localhost:8080/"
        }
      },
      "execution_count": 16,
      "outputs": [
        {
          "output_type": "stream",
          "name": "stdout",
          "text": [
            "1\n"
          ]
        }
      ]
    },
    {
      "cell_type": "code",
      "source": [
        "table = boxoffice_soup.find_all('table')[0]"
      ],
      "metadata": {
        "id": "FSik9UZUOfvs"
      },
      "execution_count": 19,
      "outputs": []
    },
    {
      "cell_type": "code",
      "source": [
        "row = table.find_all('tr')[0]"
      ],
      "metadata": {
        "id": "1n4F0BRXOuFL"
      },
      "execution_count": 20,
      "outputs": []
    },
    {
      "cell_type": "code",
      "source": [
        "print(row.contents)"
      ],
      "metadata": {
        "id": "snH7tcTNOzKv",
        "outputId": "a33730a2-07e5-4cbb-ede1-f880d49a209c",
        "colab": {
          "base_uri": "https://localhost:8080/"
        }
      },
      "execution_count": 21,
      "outputs": [
        {
          "output_type": "stream",
          "name": "stdout",
          "text": [
            "[<th class=\"a-text-left mojo-field-type-year mojo-sort-column mojo-sortable-column a-nowrap\"><a class=\"a-link-normal a-nowrap\" href=\"?area=GB&amp;sort=year&amp;sortDir=asc&amp;ref_=bo_yl__resort#table\" title=\"Year\"><span class=\"a-color-state\">Year</span><span class=\"a-letter-space\"></span><span class=\"icon aok-relative\"><i class=\"a-icon a-icon-expand\" role=\"presentation\"></i></span></a></th>, <th class=\"a-text-right mojo-field-type-money mojo-sortable-column a-nowrap\"><a class=\"a-link-normal a-nowrap\" href=\"?area=GB&amp;sort=yearTotalGross&amp;ref_=bo_yl__resort#table\" title=\"Total Gross\">Total Gross<span class=\"a-letter-space\"></span><span class=\"icon aok-relative\"><i class=\"a-icon a-icon-expand table-sort-desc-placeholder\" role=\"presentation\"></i><i class=\"a-icon a-icon-collapse table-sort-asc-placeholder\" role=\"presentation\"></i></span></a></th>, <th class=\"a-text-right mojo-field-type-percent_delta mojo-sortable-column a-nowrap\"><a class=\"a-link-normal a-nowrap\" href=\"?area=GB&amp;sort=grossLastYearDelta&amp;ref_=bo_yl__resort#table\" title=\"Gross Change/Year\">%± LY<span class=\"a-letter-space\"></span><span class=\"icon aok-relative\"><i class=\"a-icon a-icon-expand table-sort-desc-placeholder\" role=\"presentation\"></i><i class=\"a-icon a-icon-collapse table-sort-asc-placeholder\" role=\"presentation\"></i></span></a></th>, <th class=\"a-text-right mojo-field-type-positive_integer mojo-sortable-column a-nowrap\"><a class=\"a-link-normal a-nowrap\" href=\"?area=GB&amp;sort=numReleases&amp;ref_=bo_yl__resort#table\" title=\"Number of Releases\">Releases<span class=\"a-letter-space\"></span><span class=\"icon aok-relative\"><i class=\"a-icon a-icon-expand table-sort-desc-placeholder\" role=\"presentation\"></i><i class=\"a-icon a-icon-collapse table-sort-asc-placeholder\" role=\"presentation\"></i></span></a></th>, <th class=\"a-text-right mojo-field-type-money mojo-sortable-column a-nowrap\"><a class=\"a-link-normal a-nowrap\" href=\"?area=GB&amp;sort=perReleaseAverageGross&amp;ref_=bo_yl__resort#table\" title=\"Per Release Average Gross\">Average<span class=\"a-letter-space\"></span><span class=\"icon aok-relative\"><i class=\"a-icon a-icon-expand table-sort-desc-placeholder\" role=\"presentation\"></i><i class=\"a-icon a-icon-collapse table-sort-asc-placeholder\" role=\"presentation\"></i></span></a></th>, <th class=\"a-text-left mojo-field-type-release mojo-cell-wide mojo-sortable-column a-nowrap\"><span title=\"#1 Release\">#1 Release</span>\n",
            "</th>]\n"
          ]
        }
      ]
    },
    {
      "cell_type": "code",
      "execution_count": 25,
      "metadata": {
        "id": "2AAvFN48H0Pl",
        "outputId": "6e7e7434-da4a-4ceb-f2df-c9d120b0094e",
        "colab": {
          "base_uri": "https://localhost:8080/"
        }
      },
      "outputs": [
        {
          "output_type": "stream",
          "name": "stdout",
          "text": [
            "YearTotal Gross%± LYReleasesAverage#1 Release\n",
            "\n"
          ]
        },
        {
          "output_type": "stream",
          "name": "stderr",
          "text": [
            "<ipython-input-25-5d4f3e98ce32>:13: FutureWarning: The default dtype for empty Series will be 'object' instead of 'float64' in a future version. Specify a dtype explicitly to silence this warning.\n",
            "  s = pd.Series([data.text for data in row.find_all('td')])\n"
          ]
        }
      ],
      "source": [
        "# Parse and store the data of every table row\n",
        "# write your code here (~4 lines)\n",
        "\n",
        "table = boxoffice_soup.find_all('table')[0]\n",
        "\n",
        "table.find_all('tr')[0].contents\n",
        "table.find_all('tr')[0].text\n",
        "\n",
        "print(table.find_all('tr')[0].text)\n",
        "\n",
        "lst = []\n",
        "for row in table.find_all('tr'):\n",
        "    s = pd.Series([data.text for data in row.find_all('td')])\n",
        "    lst.append(s)"
      ]
    },
    {
      "cell_type": "code",
      "execution_count": 26,
      "metadata": {
        "id": "HQoGsYbqH0Pl",
        "outputId": "c8380a59-e0f1-4246-c5ce-a7297b01e67d",
        "colab": {
          "base_uri": "https://localhost:8080/",
          "height": 247
        }
      },
      "outputs": [
        {
          "output_type": "execute_result",
          "data": {
            "text/plain": [
              "0   NaN             NaN     NaN  NaN         NaN                NaN\n",
              "1  2024    $124,642,011       -  138    $903,202              Wonka\n",
              "2  2023  $1,240,469,199  +10.1%  943  $1,315,449             Barbie\n",
              "3  2022  $1,127,072,147  +58.3%  717  $1,571,927  Top Gun: Maverick\n",
              "4  2021    $711,909,602  +75.2%  432  $1,647,938     No Time to Die\n",
              "5  2020    $406,382,690  -74.8%  521    $780,005               1917"
            ],
            "text/html": [
              "\n",
              "  <div id=\"df-ed7e916f-9378-4dee-abd6-bc6edc9f9830\" class=\"colab-df-container\">\n",
              "    <div>\n",
              "<style scoped>\n",
              "    .dataframe tbody tr th:only-of-type {\n",
              "        vertical-align: middle;\n",
              "    }\n",
              "\n",
              "    .dataframe tbody tr th {\n",
              "        vertical-align: top;\n",
              "    }\n",
              "\n",
              "    .dataframe thead th {\n",
              "        text-align: right;\n",
              "    }\n",
              "</style>\n",
              "<table border=\"1\" class=\"dataframe\">\n",
              "  <thead>\n",
              "    <tr style=\"text-align: right;\">\n",
              "      <th></th>\n",
              "      <th>NaN</th>\n",
              "      <th>NaN</th>\n",
              "      <th>NaN</th>\n",
              "      <th>NaN</th>\n",
              "      <th>NaN</th>\n",
              "      <th>NaN</th>\n",
              "    </tr>\n",
              "  </thead>\n",
              "  <tbody>\n",
              "    <tr>\n",
              "      <th>1</th>\n",
              "      <td>2024</td>\n",
              "      <td>$124,642,011</td>\n",
              "      <td>-</td>\n",
              "      <td>138</td>\n",
              "      <td>$903,202</td>\n",
              "      <td>Wonka</td>\n",
              "    </tr>\n",
              "    <tr>\n",
              "      <th>2</th>\n",
              "      <td>2023</td>\n",
              "      <td>$1,240,469,199</td>\n",
              "      <td>+10.1%</td>\n",
              "      <td>943</td>\n",
              "      <td>$1,315,449</td>\n",
              "      <td>Barbie</td>\n",
              "    </tr>\n",
              "    <tr>\n",
              "      <th>3</th>\n",
              "      <td>2022</td>\n",
              "      <td>$1,127,072,147</td>\n",
              "      <td>+58.3%</td>\n",
              "      <td>717</td>\n",
              "      <td>$1,571,927</td>\n",
              "      <td>Top Gun: Maverick</td>\n",
              "    </tr>\n",
              "    <tr>\n",
              "      <th>4</th>\n",
              "      <td>2021</td>\n",
              "      <td>$711,909,602</td>\n",
              "      <td>+75.2%</td>\n",
              "      <td>432</td>\n",
              "      <td>$1,647,938</td>\n",
              "      <td>No Time to Die</td>\n",
              "    </tr>\n",
              "    <tr>\n",
              "      <th>5</th>\n",
              "      <td>2020</td>\n",
              "      <td>$406,382,690</td>\n",
              "      <td>-74.8%</td>\n",
              "      <td>521</td>\n",
              "      <td>$780,005</td>\n",
              "      <td>1917</td>\n",
              "    </tr>\n",
              "  </tbody>\n",
              "</table>\n",
              "</div>\n",
              "    <div class=\"colab-df-buttons\">\n",
              "\n",
              "  <div class=\"colab-df-container\">\n",
              "    <button class=\"colab-df-convert\" onclick=\"convertToInteractive('df-ed7e916f-9378-4dee-abd6-bc6edc9f9830')\"\n",
              "            title=\"Convert this dataframe to an interactive table.\"\n",
              "            style=\"display:none;\">\n",
              "\n",
              "  <svg xmlns=\"http://www.w3.org/2000/svg\" height=\"24px\" viewBox=\"0 -960 960 960\">\n",
              "    <path d=\"M120-120v-720h720v720H120Zm60-500h600v-160H180v160Zm220 220h160v-160H400v160Zm0 220h160v-160H400v160ZM180-400h160v-160H180v160Zm440 0h160v-160H620v160ZM180-180h160v-160H180v160Zm440 0h160v-160H620v160Z\"/>\n",
              "  </svg>\n",
              "    </button>\n",
              "\n",
              "  <style>\n",
              "    .colab-df-container {\n",
              "      display:flex;\n",
              "      gap: 12px;\n",
              "    }\n",
              "\n",
              "    .colab-df-convert {\n",
              "      background-color: #E8F0FE;\n",
              "      border: none;\n",
              "      border-radius: 50%;\n",
              "      cursor: pointer;\n",
              "      display: none;\n",
              "      fill: #1967D2;\n",
              "      height: 32px;\n",
              "      padding: 0 0 0 0;\n",
              "      width: 32px;\n",
              "    }\n",
              "\n",
              "    .colab-df-convert:hover {\n",
              "      background-color: #E2EBFA;\n",
              "      box-shadow: 0px 1px 2px rgba(60, 64, 67, 0.3), 0px 1px 3px 1px rgba(60, 64, 67, 0.15);\n",
              "      fill: #174EA6;\n",
              "    }\n",
              "\n",
              "    .colab-df-buttons div {\n",
              "      margin-bottom: 4px;\n",
              "    }\n",
              "\n",
              "    [theme=dark] .colab-df-convert {\n",
              "      background-color: #3B4455;\n",
              "      fill: #D2E3FC;\n",
              "    }\n",
              "\n",
              "    [theme=dark] .colab-df-convert:hover {\n",
              "      background-color: #434B5C;\n",
              "      box-shadow: 0px 1px 3px 1px rgba(0, 0, 0, 0.15);\n",
              "      filter: drop-shadow(0px 1px 2px rgba(0, 0, 0, 0.3));\n",
              "      fill: #FFFFFF;\n",
              "    }\n",
              "  </style>\n",
              "\n",
              "    <script>\n",
              "      const buttonEl =\n",
              "        document.querySelector('#df-ed7e916f-9378-4dee-abd6-bc6edc9f9830 button.colab-df-convert');\n",
              "      buttonEl.style.display =\n",
              "        google.colab.kernel.accessAllowed ? 'block' : 'none';\n",
              "\n",
              "      async function convertToInteractive(key) {\n",
              "        const element = document.querySelector('#df-ed7e916f-9378-4dee-abd6-bc6edc9f9830');\n",
              "        const dataTable =\n",
              "          await google.colab.kernel.invokeFunction('convertToInteractive',\n",
              "                                                    [key], {});\n",
              "        if (!dataTable) return;\n",
              "\n",
              "        const docLinkHtml = 'Like what you see? Visit the ' +\n",
              "          '<a target=\"_blank\" href=https://colab.research.google.com/notebooks/data_table.ipynb>data table notebook</a>'\n",
              "          + ' to learn more about interactive tables.';\n",
              "        element.innerHTML = '';\n",
              "        dataTable['output_type'] = 'display_data';\n",
              "        await google.colab.output.renderOutput(dataTable, element);\n",
              "        const docLink = document.createElement('div');\n",
              "        docLink.innerHTML = docLinkHtml;\n",
              "        element.appendChild(docLink);\n",
              "      }\n",
              "    </script>\n",
              "  </div>\n",
              "\n",
              "\n",
              "<div id=\"df-10a40d3a-c72e-4680-a244-27f99519bade\">\n",
              "  <button class=\"colab-df-quickchart\" onclick=\"quickchart('df-10a40d3a-c72e-4680-a244-27f99519bade')\"\n",
              "            title=\"Suggest charts\"\n",
              "            style=\"display:none;\">\n",
              "\n",
              "<svg xmlns=\"http://www.w3.org/2000/svg\" height=\"24px\"viewBox=\"0 0 24 24\"\n",
              "     width=\"24px\">\n",
              "    <g>\n",
              "        <path d=\"M19 3H5c-1.1 0-2 .9-2 2v14c0 1.1.9 2 2 2h14c1.1 0 2-.9 2-2V5c0-1.1-.9-2-2-2zM9 17H7v-7h2v7zm4 0h-2V7h2v10zm4 0h-2v-4h2v4z\"/>\n",
              "    </g>\n",
              "</svg>\n",
              "  </button>\n",
              "\n",
              "<style>\n",
              "  .colab-df-quickchart {\n",
              "      --bg-color: #E8F0FE;\n",
              "      --fill-color: #1967D2;\n",
              "      --hover-bg-color: #E2EBFA;\n",
              "      --hover-fill-color: #174EA6;\n",
              "      --disabled-fill-color: #AAA;\n",
              "      --disabled-bg-color: #DDD;\n",
              "  }\n",
              "\n",
              "  [theme=dark] .colab-df-quickchart {\n",
              "      --bg-color: #3B4455;\n",
              "      --fill-color: #D2E3FC;\n",
              "      --hover-bg-color: #434B5C;\n",
              "      --hover-fill-color: #FFFFFF;\n",
              "      --disabled-bg-color: #3B4455;\n",
              "      --disabled-fill-color: #666;\n",
              "  }\n",
              "\n",
              "  .colab-df-quickchart {\n",
              "    background-color: var(--bg-color);\n",
              "    border: none;\n",
              "    border-radius: 50%;\n",
              "    cursor: pointer;\n",
              "    display: none;\n",
              "    fill: var(--fill-color);\n",
              "    height: 32px;\n",
              "    padding: 0;\n",
              "    width: 32px;\n",
              "  }\n",
              "\n",
              "  .colab-df-quickchart:hover {\n",
              "    background-color: var(--hover-bg-color);\n",
              "    box-shadow: 0 1px 2px rgba(60, 64, 67, 0.3), 0 1px 3px 1px rgba(60, 64, 67, 0.15);\n",
              "    fill: var(--button-hover-fill-color);\n",
              "  }\n",
              "\n",
              "  .colab-df-quickchart-complete:disabled,\n",
              "  .colab-df-quickchart-complete:disabled:hover {\n",
              "    background-color: var(--disabled-bg-color);\n",
              "    fill: var(--disabled-fill-color);\n",
              "    box-shadow: none;\n",
              "  }\n",
              "\n",
              "  .colab-df-spinner {\n",
              "    border: 2px solid var(--fill-color);\n",
              "    border-color: transparent;\n",
              "    border-bottom-color: var(--fill-color);\n",
              "    animation:\n",
              "      spin 1s steps(1) infinite;\n",
              "  }\n",
              "\n",
              "  @keyframes spin {\n",
              "    0% {\n",
              "      border-color: transparent;\n",
              "      border-bottom-color: var(--fill-color);\n",
              "      border-left-color: var(--fill-color);\n",
              "    }\n",
              "    20% {\n",
              "      border-color: transparent;\n",
              "      border-left-color: var(--fill-color);\n",
              "      border-top-color: var(--fill-color);\n",
              "    }\n",
              "    30% {\n",
              "      border-color: transparent;\n",
              "      border-left-color: var(--fill-color);\n",
              "      border-top-color: var(--fill-color);\n",
              "      border-right-color: var(--fill-color);\n",
              "    }\n",
              "    40% {\n",
              "      border-color: transparent;\n",
              "      border-right-color: var(--fill-color);\n",
              "      border-top-color: var(--fill-color);\n",
              "    }\n",
              "    60% {\n",
              "      border-color: transparent;\n",
              "      border-right-color: var(--fill-color);\n",
              "    }\n",
              "    80% {\n",
              "      border-color: transparent;\n",
              "      border-right-color: var(--fill-color);\n",
              "      border-bottom-color: var(--fill-color);\n",
              "    }\n",
              "    90% {\n",
              "      border-color: transparent;\n",
              "      border-bottom-color: var(--fill-color);\n",
              "    }\n",
              "  }\n",
              "</style>\n",
              "\n",
              "  <script>\n",
              "    async function quickchart(key) {\n",
              "      const quickchartButtonEl =\n",
              "        document.querySelector('#' + key + ' button');\n",
              "      quickchartButtonEl.disabled = true;  // To prevent multiple clicks.\n",
              "      quickchartButtonEl.classList.add('colab-df-spinner');\n",
              "      try {\n",
              "        const charts = await google.colab.kernel.invokeFunction(\n",
              "            'suggestCharts', [key], {});\n",
              "      } catch (error) {\n",
              "        console.error('Error during call to suggestCharts:', error);\n",
              "      }\n",
              "      quickchartButtonEl.classList.remove('colab-df-spinner');\n",
              "      quickchartButtonEl.classList.add('colab-df-quickchart-complete');\n",
              "    }\n",
              "    (() => {\n",
              "      let quickchartButtonEl =\n",
              "        document.querySelector('#df-10a40d3a-c72e-4680-a244-27f99519bade button');\n",
              "      quickchartButtonEl.style.display =\n",
              "        google.colab.kernel.accessAllowed ? 'block' : 'none';\n",
              "    })();\n",
              "  </script>\n",
              "</div>\n",
              "\n",
              "    </div>\n",
              "  </div>\n"
            ],
            "application/vnd.google.colaboratory.intrinsic+json": {
              "type": "dataframe",
              "variable_name": "data",
              "repr_error": "'DataFrame' object has no attribute 'dtype'"
            }
          },
          "metadata": {},
          "execution_count": 26
        }
      ],
      "source": [
        "# Concatenate the data in a Pandas DataFrame and place the first row of the DataFrame as header. Use the .head() method to check your DataFrame.\n",
        "# write your code here (~5 lines)\n",
        "\n",
        "data = pd.concat(lst, axis=1).T\n",
        "\n",
        "new_header = data.iloc[0]\n",
        "\n",
        "data = data[1:]\n",
        "\n",
        "data.columns = new_header\n",
        "\n",
        "data.head()"
      ]
    },
    {
      "cell_type": "code",
      "source": [
        "data.replace('n/a', np.nan, inplace=True)\n",
        "data.replace('-', np.nan, inplace=True)\n",
        "\n",
        "data.head()"
      ],
      "metadata": {
        "id": "95CmwjYoS3Uk",
        "outputId": "82f2b940-5ef5-4e1d-88d1-c07b9a034140",
        "colab": {
          "base_uri": "https://localhost:8080/",
          "height": 206
        }
      },
      "execution_count": 31,
      "outputs": [
        {
          "output_type": "execute_result",
          "data": {
            "text/plain": [
              "0   NaN             NaN     NaN  NaN         NaN                NaN\n",
              "1  2024    $124,642,011     NaN  138    $903,202              Wonka\n",
              "2  2023  $1,240,469,199  +10.1%  943  $1,315,449             Barbie\n",
              "3  2022  $1,127,072,147  +58.3%  717  $1,571,927  Top Gun: Maverick\n",
              "4  2021    $711,909,602  +75.2%  432  $1,647,938     No Time to Die\n",
              "5  2020    $406,382,690  -74.8%  521    $780,005               1917"
            ],
            "text/html": [
              "\n",
              "  <div id=\"df-b82338ae-cebc-465d-9127-f3a000c34026\" class=\"colab-df-container\">\n",
              "    <div>\n",
              "<style scoped>\n",
              "    .dataframe tbody tr th:only-of-type {\n",
              "        vertical-align: middle;\n",
              "    }\n",
              "\n",
              "    .dataframe tbody tr th {\n",
              "        vertical-align: top;\n",
              "    }\n",
              "\n",
              "    .dataframe thead th {\n",
              "        text-align: right;\n",
              "    }\n",
              "</style>\n",
              "<table border=\"1\" class=\"dataframe\">\n",
              "  <thead>\n",
              "    <tr style=\"text-align: right;\">\n",
              "      <th></th>\n",
              "      <th>NaN</th>\n",
              "      <th>NaN</th>\n",
              "      <th>NaN</th>\n",
              "      <th>NaN</th>\n",
              "      <th>NaN</th>\n",
              "      <th>NaN</th>\n",
              "    </tr>\n",
              "  </thead>\n",
              "  <tbody>\n",
              "    <tr>\n",
              "      <th>1</th>\n",
              "      <td>2024</td>\n",
              "      <td>$124,642,011</td>\n",
              "      <td>NaN</td>\n",
              "      <td>138</td>\n",
              "      <td>$903,202</td>\n",
              "      <td>Wonka</td>\n",
              "    </tr>\n",
              "    <tr>\n",
              "      <th>2</th>\n",
              "      <td>2023</td>\n",
              "      <td>$1,240,469,199</td>\n",
              "      <td>+10.1%</td>\n",
              "      <td>943</td>\n",
              "      <td>$1,315,449</td>\n",
              "      <td>Barbie</td>\n",
              "    </tr>\n",
              "    <tr>\n",
              "      <th>3</th>\n",
              "      <td>2022</td>\n",
              "      <td>$1,127,072,147</td>\n",
              "      <td>+58.3%</td>\n",
              "      <td>717</td>\n",
              "      <td>$1,571,927</td>\n",
              "      <td>Top Gun: Maverick</td>\n",
              "    </tr>\n",
              "    <tr>\n",
              "      <th>4</th>\n",
              "      <td>2021</td>\n",
              "      <td>$711,909,602</td>\n",
              "      <td>+75.2%</td>\n",
              "      <td>432</td>\n",
              "      <td>$1,647,938</td>\n",
              "      <td>No Time to Die</td>\n",
              "    </tr>\n",
              "    <tr>\n",
              "      <th>5</th>\n",
              "      <td>2020</td>\n",
              "      <td>$406,382,690</td>\n",
              "      <td>-74.8%</td>\n",
              "      <td>521</td>\n",
              "      <td>$780,005</td>\n",
              "      <td>1917</td>\n",
              "    </tr>\n",
              "  </tbody>\n",
              "</table>\n",
              "</div>\n",
              "    <div class=\"colab-df-buttons\">\n",
              "\n",
              "  <div class=\"colab-df-container\">\n",
              "    <button class=\"colab-df-convert\" onclick=\"convertToInteractive('df-b82338ae-cebc-465d-9127-f3a000c34026')\"\n",
              "            title=\"Convert this dataframe to an interactive table.\"\n",
              "            style=\"display:none;\">\n",
              "\n",
              "  <svg xmlns=\"http://www.w3.org/2000/svg\" height=\"24px\" viewBox=\"0 -960 960 960\">\n",
              "    <path d=\"M120-120v-720h720v720H120Zm60-500h600v-160H180v160Zm220 220h160v-160H400v160Zm0 220h160v-160H400v160ZM180-400h160v-160H180v160Zm440 0h160v-160H620v160ZM180-180h160v-160H180v160Zm440 0h160v-160H620v160Z\"/>\n",
              "  </svg>\n",
              "    </button>\n",
              "\n",
              "  <style>\n",
              "    .colab-df-container {\n",
              "      display:flex;\n",
              "      gap: 12px;\n",
              "    }\n",
              "\n",
              "    .colab-df-convert {\n",
              "      background-color: #E8F0FE;\n",
              "      border: none;\n",
              "      border-radius: 50%;\n",
              "      cursor: pointer;\n",
              "      display: none;\n",
              "      fill: #1967D2;\n",
              "      height: 32px;\n",
              "      padding: 0 0 0 0;\n",
              "      width: 32px;\n",
              "    }\n",
              "\n",
              "    .colab-df-convert:hover {\n",
              "      background-color: #E2EBFA;\n",
              "      box-shadow: 0px 1px 2px rgba(60, 64, 67, 0.3), 0px 1px 3px 1px rgba(60, 64, 67, 0.15);\n",
              "      fill: #174EA6;\n",
              "    }\n",
              "\n",
              "    .colab-df-buttons div {\n",
              "      margin-bottom: 4px;\n",
              "    }\n",
              "\n",
              "    [theme=dark] .colab-df-convert {\n",
              "      background-color: #3B4455;\n",
              "      fill: #D2E3FC;\n",
              "    }\n",
              "\n",
              "    [theme=dark] .colab-df-convert:hover {\n",
              "      background-color: #434B5C;\n",
              "      box-shadow: 0px 1px 3px 1px rgba(0, 0, 0, 0.15);\n",
              "      filter: drop-shadow(0px 1px 2px rgba(0, 0, 0, 0.3));\n",
              "      fill: #FFFFFF;\n",
              "    }\n",
              "  </style>\n",
              "\n",
              "    <script>\n",
              "      const buttonEl =\n",
              "        document.querySelector('#df-b82338ae-cebc-465d-9127-f3a000c34026 button.colab-df-convert');\n",
              "      buttonEl.style.display =\n",
              "        google.colab.kernel.accessAllowed ? 'block' : 'none';\n",
              "\n",
              "      async function convertToInteractive(key) {\n",
              "        const element = document.querySelector('#df-b82338ae-cebc-465d-9127-f3a000c34026');\n",
              "        const dataTable =\n",
              "          await google.colab.kernel.invokeFunction('convertToInteractive',\n",
              "                                                    [key], {});\n",
              "        if (!dataTable) return;\n",
              "\n",
              "        const docLinkHtml = 'Like what you see? Visit the ' +\n",
              "          '<a target=\"_blank\" href=https://colab.research.google.com/notebooks/data_table.ipynb>data table notebook</a>'\n",
              "          + ' to learn more about interactive tables.';\n",
              "        element.innerHTML = '';\n",
              "        dataTable['output_type'] = 'display_data';\n",
              "        await google.colab.output.renderOutput(dataTable, element);\n",
              "        const docLink = document.createElement('div');\n",
              "        docLink.innerHTML = docLinkHtml;\n",
              "        element.appendChild(docLink);\n",
              "      }\n",
              "    </script>\n",
              "  </div>\n",
              "\n",
              "\n",
              "<div id=\"df-62ce9237-4530-44ca-939e-59f8dc2060c9\">\n",
              "  <button class=\"colab-df-quickchart\" onclick=\"quickchart('df-62ce9237-4530-44ca-939e-59f8dc2060c9')\"\n",
              "            title=\"Suggest charts\"\n",
              "            style=\"display:none;\">\n",
              "\n",
              "<svg xmlns=\"http://www.w3.org/2000/svg\" height=\"24px\"viewBox=\"0 0 24 24\"\n",
              "     width=\"24px\">\n",
              "    <g>\n",
              "        <path d=\"M19 3H5c-1.1 0-2 .9-2 2v14c0 1.1.9 2 2 2h14c1.1 0 2-.9 2-2V5c0-1.1-.9-2-2-2zM9 17H7v-7h2v7zm4 0h-2V7h2v10zm4 0h-2v-4h2v4z\"/>\n",
              "    </g>\n",
              "</svg>\n",
              "  </button>\n",
              "\n",
              "<style>\n",
              "  .colab-df-quickchart {\n",
              "      --bg-color: #E8F0FE;\n",
              "      --fill-color: #1967D2;\n",
              "      --hover-bg-color: #E2EBFA;\n",
              "      --hover-fill-color: #174EA6;\n",
              "      --disabled-fill-color: #AAA;\n",
              "      --disabled-bg-color: #DDD;\n",
              "  }\n",
              "\n",
              "  [theme=dark] .colab-df-quickchart {\n",
              "      --bg-color: #3B4455;\n",
              "      --fill-color: #D2E3FC;\n",
              "      --hover-bg-color: #434B5C;\n",
              "      --hover-fill-color: #FFFFFF;\n",
              "      --disabled-bg-color: #3B4455;\n",
              "      --disabled-fill-color: #666;\n",
              "  }\n",
              "\n",
              "  .colab-df-quickchart {\n",
              "    background-color: var(--bg-color);\n",
              "    border: none;\n",
              "    border-radius: 50%;\n",
              "    cursor: pointer;\n",
              "    display: none;\n",
              "    fill: var(--fill-color);\n",
              "    height: 32px;\n",
              "    padding: 0;\n",
              "    width: 32px;\n",
              "  }\n",
              "\n",
              "  .colab-df-quickchart:hover {\n",
              "    background-color: var(--hover-bg-color);\n",
              "    box-shadow: 0 1px 2px rgba(60, 64, 67, 0.3), 0 1px 3px 1px rgba(60, 64, 67, 0.15);\n",
              "    fill: var(--button-hover-fill-color);\n",
              "  }\n",
              "\n",
              "  .colab-df-quickchart-complete:disabled,\n",
              "  .colab-df-quickchart-complete:disabled:hover {\n",
              "    background-color: var(--disabled-bg-color);\n",
              "    fill: var(--disabled-fill-color);\n",
              "    box-shadow: none;\n",
              "  }\n",
              "\n",
              "  .colab-df-spinner {\n",
              "    border: 2px solid var(--fill-color);\n",
              "    border-color: transparent;\n",
              "    border-bottom-color: var(--fill-color);\n",
              "    animation:\n",
              "      spin 1s steps(1) infinite;\n",
              "  }\n",
              "\n",
              "  @keyframes spin {\n",
              "    0% {\n",
              "      border-color: transparent;\n",
              "      border-bottom-color: var(--fill-color);\n",
              "      border-left-color: var(--fill-color);\n",
              "    }\n",
              "    20% {\n",
              "      border-color: transparent;\n",
              "      border-left-color: var(--fill-color);\n",
              "      border-top-color: var(--fill-color);\n",
              "    }\n",
              "    30% {\n",
              "      border-color: transparent;\n",
              "      border-left-color: var(--fill-color);\n",
              "      border-top-color: var(--fill-color);\n",
              "      border-right-color: var(--fill-color);\n",
              "    }\n",
              "    40% {\n",
              "      border-color: transparent;\n",
              "      border-right-color: var(--fill-color);\n",
              "      border-top-color: var(--fill-color);\n",
              "    }\n",
              "    60% {\n",
              "      border-color: transparent;\n",
              "      border-right-color: var(--fill-color);\n",
              "    }\n",
              "    80% {\n",
              "      border-color: transparent;\n",
              "      border-right-color: var(--fill-color);\n",
              "      border-bottom-color: var(--fill-color);\n",
              "    }\n",
              "    90% {\n",
              "      border-color: transparent;\n",
              "      border-bottom-color: var(--fill-color);\n",
              "    }\n",
              "  }\n",
              "</style>\n",
              "\n",
              "  <script>\n",
              "    async function quickchart(key) {\n",
              "      const quickchartButtonEl =\n",
              "        document.querySelector('#' + key + ' button');\n",
              "      quickchartButtonEl.disabled = true;  // To prevent multiple clicks.\n",
              "      quickchartButtonEl.classList.add('colab-df-spinner');\n",
              "      try {\n",
              "        const charts = await google.colab.kernel.invokeFunction(\n",
              "            'suggestCharts', [key], {});\n",
              "      } catch (error) {\n",
              "        console.error('Error during call to suggestCharts:', error);\n",
              "      }\n",
              "      quickchartButtonEl.classList.remove('colab-df-spinner');\n",
              "      quickchartButtonEl.classList.add('colab-df-quickchart-complete');\n",
              "    }\n",
              "    (() => {\n",
              "      let quickchartButtonEl =\n",
              "        document.querySelector('#df-62ce9237-4530-44ca-939e-59f8dc2060c9 button');\n",
              "      quickchartButtonEl.style.display =\n",
              "        google.colab.kernel.accessAllowed ? 'block' : 'none';\n",
              "    })();\n",
              "  </script>\n",
              "</div>\n",
              "\n",
              "    </div>\n",
              "  </div>\n"
            ],
            "application/vnd.google.colaboratory.intrinsic+json": {
              "type": "dataframe",
              "variable_name": "data",
              "repr_error": "'DataFrame' object has no attribute 'dtype'"
            }
          },
          "metadata": {},
          "execution_count": 31
        }
      ]
    },
    {
      "cell_type": "code",
      "execution_count": 28,
      "metadata": {
        "id": "boK9sNpDH0Pl",
        "outputId": "35dd2a31-e8d9-4ff0-9fa8-51d8b1e75a5c",
        "colab": {
          "base_uri": "https://localhost:8080/",
          "height": 315
        }
      },
      "outputs": [
        {
          "output_type": "error",
          "ename": "AttributeError",
          "evalue": "'DataFrame' object has no attribute 'Distributor'",
          "traceback": [
            "\u001b[0;31m---------------------------------------------------------------------------\u001b[0m",
            "\u001b[0;31mAttributeError\u001b[0m                            Traceback (most recent call last)",
            "\u001b[0;32m<ipython-input-28-18d3dc19a1f8>\u001b[0m in \u001b[0;36m<cell line: 4>\u001b[0;34m()\u001b[0m\n\u001b[1;32m      2\u001b[0m \u001b[0;31m# write your code here (~1 line)\u001b[0m\u001b[0;34m\u001b[0m\u001b[0;34m\u001b[0m\u001b[0m\n\u001b[1;32m      3\u001b[0m \u001b[0;34m\u001b[0m\u001b[0m\n\u001b[0;32m----> 4\u001b[0;31m \u001b[0mdata\u001b[0m\u001b[0;34m.\u001b[0m\u001b[0mDistributor\u001b[0m\u001b[0;34m.\u001b[0m\u001b[0mvalue_counts\u001b[0m\u001b[0;34m(\u001b[0m\u001b[0;34m)\u001b[0m\u001b[0;34m.\u001b[0m\u001b[0mplot\u001b[0m\u001b[0;34m(\u001b[0m\u001b[0mkind\u001b[0m\u001b[0;34m=\u001b[0m \u001b[0;34m'bar'\u001b[0m\u001b[0;34m,\u001b[0m \u001b[0mtitle\u001b[0m\u001b[0;34m=\u001b[0m \u001b[0;34m'Films per distributor'\u001b[0m\u001b[0;34m)\u001b[0m\u001b[0;34m\u001b[0m\u001b[0;34m\u001b[0m\u001b[0m\n\u001b[0m\u001b[1;32m      5\u001b[0m \u001b[0mplt\u001b[0m\u001b[0;34m.\u001b[0m\u001b[0mshow\u001b[0m\u001b[0;34m(\u001b[0m\u001b[0;34m)\u001b[0m\u001b[0;34m\u001b[0m\u001b[0;34m\u001b[0m\u001b[0m\n",
            "\u001b[0;32m/usr/local/lib/python3.10/dist-packages/pandas/core/generic.py\u001b[0m in \u001b[0;36m__getattr__\u001b[0;34m(self, name)\u001b[0m\n\u001b[1;32m   5900\u001b[0m         ):\n\u001b[1;32m   5901\u001b[0m             \u001b[0;32mreturn\u001b[0m \u001b[0mself\u001b[0m\u001b[0;34m[\u001b[0m\u001b[0mname\u001b[0m\u001b[0;34m]\u001b[0m\u001b[0;34m\u001b[0m\u001b[0;34m\u001b[0m\u001b[0m\n\u001b[0;32m-> 5902\u001b[0;31m         \u001b[0;32mreturn\u001b[0m \u001b[0mobject\u001b[0m\u001b[0;34m.\u001b[0m\u001b[0m__getattribute__\u001b[0m\u001b[0;34m(\u001b[0m\u001b[0mself\u001b[0m\u001b[0;34m,\u001b[0m \u001b[0mname\u001b[0m\u001b[0;34m)\u001b[0m\u001b[0;34m\u001b[0m\u001b[0;34m\u001b[0m\u001b[0m\n\u001b[0m\u001b[1;32m   5903\u001b[0m \u001b[0;34m\u001b[0m\u001b[0m\n\u001b[1;32m   5904\u001b[0m     \u001b[0;32mdef\u001b[0m \u001b[0m__setattr__\u001b[0m\u001b[0;34m(\u001b[0m\u001b[0mself\u001b[0m\u001b[0;34m,\u001b[0m \u001b[0mname\u001b[0m\u001b[0;34m:\u001b[0m \u001b[0mstr\u001b[0m\u001b[0;34m,\u001b[0m \u001b[0mvalue\u001b[0m\u001b[0;34m)\u001b[0m \u001b[0;34m->\u001b[0m \u001b[0;32mNone\u001b[0m\u001b[0;34m:\u001b[0m\u001b[0;34m\u001b[0m\u001b[0;34m\u001b[0m\u001b[0m\n",
            "\u001b[0;31mAttributeError\u001b[0m: 'DataFrame' object has no attribute 'Distributor'"
          ]
        }
      ],
      "source": [
        "# Q1: Count the films per distributor and plot them using a bar chart\n",
        "# write your code here (~1 line)\n",
        "\n",
        "data.Distributor.value_counts().plot(kind= 'bar', title= 'Films per distributor')\n",
        "plt.show()"
      ]
    },
    {
      "cell_type": "code",
      "source": [
        "# prompt: import table into csv file\n",
        "\n",
        "import pandas as pd\n",
        "\n",
        "# Read the HTML table into a Pandas DataFrame\n",
        "df = pd.read_html(str(table))[0]\n",
        "\n",
        "# Export the DataFrame to a CSV file\n",
        "df.to_csv('table.csv', index=False)\n"
      ],
      "metadata": {
        "id": "FL4b06eYRTjF"
      },
      "execution_count": 32,
      "outputs": []
    },
    {
      "cell_type": "code",
      "execution_count": null,
      "metadata": {
        "id": "EV7L9h_2H0Pm"
      },
      "outputs": [],
      "source": [
        "# Q2: Gross earnings by distributors\n",
        "\n",
        "# Remove the £ symbol from the \"Gross\" column and transform strings to integers\n",
        "# write your code here (~1 line)\n",
        "\n",
        "# Group the data by Distributor and add the Gross value of their movies\n",
        "# write your code here (~1 line)"
      ]
    },
    {
      "cell_type": "markdown",
      "metadata": {
        "id": "hZgdvOHxH0Pm"
      },
      "source": [
        "## Advanced web scraping tools\n",
        "\n",
        "**[Scrapy](https://scrapy.org)** is a Python framework for large scale web scraping. It gives you all the tools you need to efficiently extract data from websites, process them as you want, and store them in your preferred structure and format.\n",
        "\n",
        "**[ARGUS](https://github.com/datawizard1337/ARGUS)** is an easy-to-use web mining tool that's built on Scrapy. It is able to crawl a broad range of different websites.\n",
        "\n",
        "**[Selenium](https://selenium-python.readthedocs.io/index.html)** is an umbrella project encapsulating a variety of tools and libraries enabling web browser automation. Selenium specifically provides infrastructure for the W3C WebDriver specification — a platform and language-neutral coding interface compatible with all major web browsers. We can use it to imitate a user's behaviour and interact with Javascript elements (buttons, sliders etc.).\n",
        "\n",
        "For now, let's see how Selenium works.\n",
        "\n",
        "### How to install Selenium\n",
        "1. If you are using Anaconda: `conda install -c conda-forge selenium `\n",
        "2. Download the driver for your web browser for [here](https://selenium-python.readthedocs.io/installation.html#drivers). **Note:** Choose a driver that corresponds to your web browser's version. Unzip the file and move the executable to your working directory.\n",
        "\n",
        "#### Important note on Selinium and web drivers\n",
        "If you are running this notebook locally, follow the above steps and run the code directly below (change the path to where your web driver is located). If you are running this notebook on colab, skip the next cell and run the one below it.\n",
        "\n",
        "### Scraping data with Selenium\n",
        "We will use [UK's Yearly Box Office](https://www.boxofficemojo.com/intl/uk/yearly/) to scrape not only the top 100 but all the top movies of 2019. This will be our pipeline:\n",
        "\n",
        "<img src='https://github.com/nestauk/im-tutorials/blob/3-ysi-tutorial/figures/Web-Scraping/selenium-pipeline.png?raw=1' width='1024'>"
      ]
    },
    {
      "cell_type": "code",
      "execution_count": null,
      "metadata": {
        "id": "4HjbGeXwH0Pm"
      },
      "outputs": [],
      "source": [
        "# # RUN THIS CELL WHEN USING THE NOTEBOOK LOCALLY - YOU SHOULD INSTALL SELENIUM FIRST\n",
        "# import selenium.webdriver\n",
        "# # Path to the Chrome driver for my Mac -- yours will differ\n",
        "# mac_path = '../../chromedriver'\n",
        "# driver = selenium.webdriver.Chrome(executable_path=mac_path)"
      ]
    },
    {
      "cell_type": "code",
      "execution_count": null,
      "metadata": {
        "id": "u-io_Vu7H0Pm"
      },
      "outputs": [],
      "source": [
        "# # RUN THIS CELL WHEN USING THE NOTEBOOK ON COLAB - NO PREVIOUS INSTALLATION OF SELENIUM IS NEEDED\n",
        "# # install chromium, its driver, and selenium\n",
        "# !apt update\n",
        "# !apt install chromium-chromedriver\n",
        "# !pip install selenium\n",
        "# # set options to be headless\n",
        "# from selenium import webdriver\n",
        "# options = webdriver.ChromeOptions()\n",
        "# options.add_argument('--headless')\n",
        "# options.add_argument('--no-sandbox')\n",
        "# options.add_argument('--disable-dev-shm-usage')\n",
        "# # open it, go to a website, and get results\n",
        "# driver = webdriver.Chrome('chromedriver',options=options)"
      ]
    },
    {
      "cell_type": "code",
      "execution_count": null,
      "metadata": {
        "id": "f3qFVoSXH0Pm"
      },
      "outputs": [],
      "source": [
        "def html2df(source, q):\n",
        "    \"\"\"A wrapper of the scraping pipeline we used before.\"\"\"\n",
        "    # Parse the HTML page\n",
        "    soup = BeautifulSoup(source, 'html.parser')\n",
        "\n",
        "    # Choose the relevant table\n",
        "    table = soup.find_all('table')[4]\n",
        "\n",
        "    # Parse and store the data of every table row\n",
        "    lst = []\n",
        "    for row in table.find_all('tr'):\n",
        "        s = pd.Series([data.text for data in row.find_all('td')])\n",
        "        lst.append(s)\n",
        "\n",
        "    # Concatenate the data in a Pandas DataFrame and place the first row of the DataFrame as header.\n",
        "    data = pd.concat(lst, axis=1).T\n",
        "\n",
        "    # Grab the first row for the header\n",
        "    new_header = data.iloc[0]\n",
        "\n",
        "    # Take the data less the header row\n",
        "    data = data[1:]\n",
        "\n",
        "    # Set the header row as the df header\n",
        "    data.columns = new_header\n",
        "\n",
        "    # Add a new column tagging the page we scraped\n",
        "    data['page'] = q\n",
        "\n",
        "    return data"
      ]
    },
    {
      "cell_type": "markdown",
      "metadata": {
        "id": "oe4cHKaSH0Pm"
      },
      "source": [
        "### About the `driver`\n",
        "The `driver` object establishes a connection from this Python environment out to the browser window.\n",
        "\n",
        "**Note:** A new Chrome window will pop-up when you run the code cell below."
      ]
    },
    {
      "cell_type": "code",
      "execution_count": null,
      "metadata": {
        "id": "xfI8_RH-H0Pm"
      },
      "outputs": [],
      "source": [
        "# URL to use in Selenium\n",
        "driver.get('https://www.boxofficemojo.com/intl/uk/yearly/')"
      ]
    },
    {
      "cell_type": "code",
      "execution_count": null,
      "metadata": {
        "id": "8lLaFpaQH0Pm"
      },
      "outputs": [],
      "source": [
        "lst = []\n",
        "lst.append(html2df(driver.page_source, '#1'))\n",
        "for i in ['#101', '#201', '#301', '#401']:\n",
        "    # Locate Hyperlinks by partial link text\n",
        "    elem = driver.find_element_by_partial_link_text(i)\n",
        "    # Click on the next page\n",
        "    elem.click()\n",
        "    # Store the Pandas DataFrame with the scraped content in a list\n",
        "    lst.append(html2df(driver.page_source, i))\n",
        "\n",
        "# Concatenate all Pandas DataFrames\n",
        "df = pd.concat(lst)"
      ]
    },
    {
      "cell_type": "code",
      "execution_count": null,
      "metadata": {
        "id": "AoULCJzZH0Pm"
      },
      "outputs": [],
      "source": [
        "df.head(2)"
      ]
    },
    {
      "cell_type": "code",
      "execution_count": null,
      "metadata": {
        "id": "B38uQ8DiH0Pn"
      },
      "outputs": [],
      "source": [
        "print(f'(MOVIES, COLUMNS) -> {df.shape}')"
      ]
    },
    {
      "cell_type": "markdown",
      "metadata": {
        "id": "vtR-JJOpH0Pn"
      },
      "source": [
        "## Exercise\n",
        "\n",
        "Use Selenium to scrape Box Office Mojo's top \\#100 for every year between 2002 and 2019.\n",
        "\n",
        "[Link to the solutions. Don't cheat!](https://colab.research.google.com/github/nestauk/im-tutorials/blob/3-ysi-tutorial/notebooks/Web-Scraping/solutions.ipynb)"
      ]
    },
    {
      "cell_type": "code",
      "execution_count": null,
      "metadata": {
        "id": "OjyZrh-7H0Pn"
      },
      "outputs": [],
      "source": [
        "url = 'https://www.boxofficemojo.com/intl/uk/yearly/'"
      ]
    },
    {
      "cell_type": "code",
      "execution_count": null,
      "metadata": {
        "id": "NHGS_kXUH0Pn"
      },
      "outputs": [],
      "source": [
        "# URL to use in Selenium\n",
        "# write your code here (~1 line)\n",
        "\n",
        "lst = []\n",
        "# Loop over the years.\n",
        "# write your code here (~1-2 lines)\n",
        "\n",
        "    # Locate Hyperlinks by partial link text\n",
        "    # write your code here (~1 line)\n",
        "\n",
        "    # Click on the next page\n",
        "    # write your code here (~1 line)\n",
        "\n",
        "    # Store the Pandas DataFrame with the scraped content in a list\n",
        "    # write your code here (~1 line)\n",
        "\n",
        "# Concatenate all Pandas DataFrames\n",
        "# write your code here (~1 line)"
      ]
    },
    {
      "cell_type": "markdown",
      "metadata": {
        "id": "e0VPUrOCH0Pn"
      },
      "source": [
        "## Ethical considerations\n",
        "\n",
        "**You can scrape it, should you though?**\n",
        "\n",
        "A very good summary of practices for [ethical web scraping](https://towardsdatascience.com/ethics-in-web-scraping-b96b18136f01):\n",
        "\n",
        "* If you have a public API that provides the data I’m looking for, I’ll use it and avoid scraping all together.\n",
        "* I will only save the data I absolutely need from your page.\n",
        "* I will respect any content I do keep. I’ll never pass it off as my own.\n",
        "* I will look for ways to return value to you. Maybe I can drive some (real) traffic to your site or credit you in an article or post.\n",
        "* I will respond in a timely fashion to your outreach and work with you towards a resolution.\n",
        "* I will scrape for the purpose of creating new value from the data, not to duplicate it.\n",
        "\n",
        "Some other [important components](http://robertorocha.info/on-the-ethics-of-web-scraping/) of ethical web scraping practices include:\n",
        "\n",
        "* Read the Terms of Service and Privacy Policies of a website before scraping it (this might not be possible in many situations though).\n",
        "* If it’s not clear from looking at the website, contact the webmaster and ask if and what you’re allowed to harvest.\n",
        "* Be gentle on smaller websites\n",
        "    * Run your scraper in off-peak hours\n",
        "    * Space out your requests.\n",
        "* Identify yourself by name and email in your User-Agent strings.\n",
        "* Inspecting the **robots.txt** file for rules about what pages can be scraped, indexed, etc.\n",
        "\n",
        "### What is a robots.txt?\n",
        "\n",
        "A simple text file placed on the web server which tells crawlers which file they can and cannot access. It's also called _The Robots Exclusion Protocol_.\n",
        "\n",
        "<img src='https://github.com/nestauk/im-tutorials/blob/3-ysi-tutorial/figures/Web-Scraping/robots.png?raw=1' width=\"600\">\n",
        "\n",
        "#### Some examples"
      ]
    },
    {
      "cell_type": "code",
      "execution_count": null,
      "metadata": {
        "id": "HWWJsr2tH0Pn"
      },
      "outputs": [],
      "source": [
        "print(requests.get('https://www.nesta.org.uk/robots.txt').text)\n",
        "print('-----')\n",
        "print(requests.get('https://www.boxofficemojo.com/robots.txt').text)\n",
        "print('-----')\n",
        "print(requests.get('https://www.howtogeek.com/robots.txt').text)"
      ]
    },
    {
      "cell_type": "markdown",
      "metadata": {
        "id": "4e8BxqMJH0Pn"
      },
      "source": [
        "#### What's a User-Agent?\n",
        "\n",
        "A User-Agent is a string identifying the browser and operating system to the web server. It's your machine's way of saying _Hi, I am Chrome on macOS_ to a web server.\n",
        "\n",
        "Web servers use user agents for a variety of purposes:\n",
        "* Serving different web pages to different web browsers. This can be used for good – for example, to serve simpler web pages to older browsers – or evil – for example, to display a “This web page must be viewed in Internet Explorer” message.\n",
        "* Displaying different content to different operating systems – for example, by displaying a slimmed-down page on mobile devices.\n",
        "* Gathering statistics showing the browsers and operating systems in use by their users. If you ever see browser market-share statistics, this is how they’re acquired.\n",
        "\n",
        "Let's break down the structure of a human-operated User-Agent:\n",
        "\n",
        "```Mozilla/5.0 (iPad; U; CPU OS 3_2_1 like Mac OS X; en-us) AppleWebKit/531.21.10 (KHTML, like Gecko) Mobile/7B405```\n",
        "\n",
        "The components of this string are as follows:\n",
        "\n",
        "* Mozilla/5.0: Previously used to indicate compatibility with the Mozilla rendering engine.\n",
        "* (iPad; U; CPU OS 3_2_1 like Mac OS X; en-us): Details of the system in which the browser is running.\n",
        "* AppleWebKit/531.21.10: The platform the browser uses.\n",
        "* (KHTML, like Gecko): Browser platform details.\n",
        "* Mobile/7B405: This is used by the browser to indicate specific enhancements that are available directly in the browser or through third parties. An example of this is Microsoft Live Meeting which registers an extension so that the Live Meeting service knows if the software is already installed, which means it can provide a streamlined experience to joining meetings.\n",
        "\n",
        "When scraping websites, it is a good idea to include your contact information as a custom **User-Agent** string so that the webmaster can get in contact. For example:"
      ]
    },
    {
      "cell_type": "code",
      "execution_count": null,
      "metadata": {
        "id": "24ByvKJeH0Pn"
      },
      "outputs": [],
      "source": [
        "headers = {\n",
        "    'User-Agent': 'Kostas Stathoulopoulos bot',\n",
        "    'From': 'konstantinos.stathoulopoulos@nesta.org.uk'\n",
        "}\n",
        "request = requests.get('https://www.nesta.org.uk/', headers=headers)\n",
        "print(request.request.headers)"
      ]
    },
    {
      "cell_type": "markdown",
      "metadata": {
        "id": "HCW6QFsRH0Pn"
      },
      "source": [
        "## Additional resources/references:\n",
        "\n",
        "* [Document Object Model (DOM)](https://developer.mozilla.org/en-US/docs/Web/API/Document_Object_Model/Introduction)\n",
        "* [HTML elements reference guide](https://www.w3schools.com/tags/default.asp)\n",
        "* [About /robots.txt](https://www.robotstxt.org/robotstxt.html)\n",
        "* [The robots.txt file](https://varvy.com/robottxt.html)\n",
        "* [Ethics in Web Scraping](https://towardsdatascience.com/ethics-in-web-scraping-b96b18136f01)\n",
        "* [On the Ethics of Web Scraping](http://robertorocha.info/on-the-ethics-of-web-scraping/)\n",
        "* [User-Agent](https://en.wikipedia.org/wiki/User_agent)\n",
        "* [BeautifulSoup documentation](https://www.crummy.com/software/BeautifulSoup/bs4/doc/)\n",
        "* [Selinium Python - Unofficial documentation](https://selenium-python.readthedocs.io/)\n",
        "* [ARGUS paper](http://ftp.zew.de/pub/zew-docs/dp/dp18033.pdf)\n",
        "* [Brian's C. Keegan](http://www.brianckeegan.com/) excellent [5-week web scraping course](https://github.com/CU-ITSS/Web-Data-Scraping-S2019) intended for researchers in the social sciences and humanities."
      ]
    },
    {
      "cell_type": "code",
      "execution_count": null,
      "metadata": {
        "id": "njiO_jY7H0Pn"
      },
      "outputs": [],
      "source": []
    }
  ],
  "metadata": {
    "kernelspec": {
      "display_name": "Python [conda env:py36]",
      "language": "python",
      "name": "conda-env-py36-py"
    },
    "language_info": {
      "codemirror_mode": {
        "name": "ipython",
        "version": 3
      },
      "file_extension": ".py",
      "mimetype": "text/x-python",
      "name": "python",
      "nbconvert_exporter": "python",
      "pygments_lexer": "ipython3",
      "version": "3.6.7"
    },
    "colab": {
      "provenance": []
    }
  },
  "nbformat": 4,
  "nbformat_minor": 0
}